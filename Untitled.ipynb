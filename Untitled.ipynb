{
 "cells": [
  {
   "cell_type": "code",
   "execution_count": 1,
   "id": "6b0718a2",
   "metadata": {},
   "outputs": [],
   "source": [
    "from tkinter import * \n",
    "root = Tk() \n",
    "root.geometry('500x300') \n",
    "root.resizable(0,0) \n",
    "root.title(\"Website Blocker\") \n",
    "Label(root, text ='Website Blocker' ,font ='arial 20 bold').pack() \n",
    "host_path ='C:\\Windows\\System32\\drivers\\etc\\hosts' \n",
    "host ='C:\\Windows\\System32\\drivers\\etc\\host' \n",
    "ip_address = '127.0.0.1' \n",
    "Label(root, text ='Enter Website :' , font ='arial 13 bold').place(x=5 ,y=60) \n",
    "Websites = Text(root,font = 'arial 10',height='2', width = '40') \n",
    "Websites.place(x= 140,y = 60) \n",
    "def remove():\n",
    "    website_lists = Websites.get(1.0,END)\n",
    "    Website = list(website_lists.split(\",\"))\n",
    "    with open (host_path , 'r+') as host_file:\n",
    "        file_content = host_file.read()\n",
    "        for web in Website:             \n",
    "            if web in file_content:                 \n",
    "                h=open (\"host\",\"r\")                 \n",
    "                k=open(\"hosts\",\"w\") \n",
    "                k.write(\"\") \n",
    "                k.close()                 \n",
    "                for l in h:                      \n",
    "                    f=open (\"hosts\",\"a\") \n",
    "                    f.write(l) \n",
    "                    f.close() \n",
    "                    Label(root, text = '   unblocked         ' , font = 'arial 12 bold').place(x=190,y=200)                \n",
    "                    pass \n",
    "def Blocker(): \n",
    "    website_lists = Websites.get(1.0,END)     \n",
    "    Website = list(website_lists.split(\",\"))     \n",
    "    with open (host_path , 'r+') as host_file: \n",
    "        file_content = host_file.read()         \n",
    "        for web in Website: \n",
    "            if web in file_content: \n",
    "                Label(root, text = 'Already Blocked' , font = 'arial 12 bold').place(x=195,y=200)                 \n",
    "                pass             \n",
    "            else: \n",
    "                host_file.write(ip_address + \" \" + web + '\\n') \n",
    "                Label(root, text = \"    Blocked           \", font = 'arial 12 bold').place(x=198,y =200)\n",
    "\n",
    "unblock = Button(root, text = 'unblock',font = 'arial 12 bold',pady = 5,command = remove ,width = 6, bg = 'royal blue1', activebackground = 'sky blue') \n",
    "unblock.place(x = 250, y = 150) \n",
    "block = Button(root, text = 'Block',font = 'arial 12 bold',pady = 5,command = Blocker ,width = 6, bg = 'royal blue1', activebackground = 'sky blue')\n",
    "block.place(x = 180, y = 150) \n",
    "root.mainloop() \n"
   ]
  },
  {
   "cell_type": "code",
   "execution_count": null,
   "id": "79a63e21",
   "metadata": {},
   "outputs": [],
   "source": []
  },
  {
   "cell_type": "code",
   "execution_count": null,
   "id": "c4e22838",
   "metadata": {},
   "outputs": [],
   "source": []
  }
 ],
 "metadata": {
  "kernelspec": {
   "display_name": "Python 3 (ipykernel)",
   "language": "python",
   "name": "python3"
  },
  "language_info": {
   "codemirror_mode": {
    "name": "ipython",
    "version": 3
   },
   "file_extension": ".py",
   "mimetype": "text/x-python",
   "name": "python",
   "nbconvert_exporter": "python",
   "pygments_lexer": "ipython3",
   "version": "3.9.7"
  }
 },
 "nbformat": 4,
 "nbformat_minor": 5
}
